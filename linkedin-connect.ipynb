{
 "cells": [
  {
   "cell_type": "code",
   "execution_count": 1,
   "id": "1233e006",
   "metadata": {},
   "outputs": [],
   "source": [
    "from selenium import webdriver\n",
    "from selenium.webdriver.firefox.options import Options as FirefoxOptions\n",
    "from selenium.webdriver.common.keys import Keys\n",
    "from selenium.webdriver.common.by import By\n",
    "from selenium.webdriver.common.action_chains import ActionChains\n",
    "import time"
   ]
  },
  {
   "cell_type": "code",
   "execution_count": 4,
   "id": "18b935d2",
   "metadata": {},
   "outputs": [],
   "source": [
    "def login(user, password):\n",
    "    \n",
    "    #object of FirefoxOptions\n",
    "    options = webdriver.FirefoxOptions()\n",
    "    options.binary_location = r'C:\\Program Files\\Mozilla Firefox\\firefox.exe'\n",
    "\n",
    "    driver = webdriver.Firefox(options=options)\n",
    "    a = ActionChains(driver)\n",
    "\n",
    "    driver.get(\"https://linkedin.com/\")\n",
    "    # Login\n",
    "    time.sleep(2)\n",
    "    \n",
    "    input_user = driver.find_element(By.ID, \"session_key\")\n",
    "    input_user.send_keys(user)\n",
    "    input_password = driver.find_element(By.ID, \"session_password\")\n",
    "    input_password.send_keys(password)\n",
    "\n",
    "    input_submit = driver.find_element(By.CLASS_NAME, \"sign-in-form__submit-button\")\n",
    "    time.sleep(2)\n",
    "    input_submit.click()\n",
    "    time.sleep(30)\n",
    "    \n",
    "    return driver"
   ]
  },
  {
   "cell_type": "code",
   "execution_count": 5,
   "id": "c44ef638",
   "metadata": {},
   "outputs": [],
   "source": [
    "def url_search(geo=['MX'], keywords='data', page=1):\n",
    "    geo_dict = {'MX': \"103323778\"}\n",
    "    geo_str = [geo_dict[x] for x in geo]\n",
    "    \n",
    "    url = f'https://www.linkedin.com/search/results/people/?geoUrn={str(geo_str)}&keywords={keywords}&origin=FACETED_SEARCH&page={page}'\n",
    "    return url.replace(\"'\", '\"')"
   ]
  },
  {
   "cell_type": "code",
   "execution_count": 6,
   "id": "d5e90371",
   "metadata": {},
   "outputs": [],
   "source": [
    "def send(driver):\n",
    "    # Find send\n",
    "    button2 = driver.find_elements(By.CLASS_NAME, \"artdeco-button--2\")\n",
    "    button2 = [x for x in button2 if x.get_attribute('innerHTML').find('Send')>0]\n",
    "\n",
    "    if len(button2) == 0:\n",
    "        driver.find_element(By.CLASS_NAME, \"artdeco-modal-overlay\").click()\n",
    "    else:\n",
    "        button2[0].click()\n",
    "        \n",
    "    time.sleep(1)"
   ]
  },
  {
   "cell_type": "code",
   "execution_count": 7,
   "id": "d0890167",
   "metadata": {},
   "outputs": [],
   "source": [
    "def connect(driver):\n",
    "    n = 0\n",
    "    \n",
    "    #find all connect\n",
    "    button = driver.find_elements(By.CLASS_NAME, \"artdeco-button--2\")\n",
    "    button = [x for x in button if x.get_attribute('innerHTML').find('Connect')>0]\n",
    "\n",
    "    for i in range(len(button)):\n",
    "        button[i].click()\n",
    "        time.sleep(1)\n",
    "\n",
    "        send(driver)\n",
    "\n",
    "        n += 1\n",
    "    return n"
   ]
  },
  {
   "cell_type": "code",
   "execution_count": 8,
   "id": "a1c735fe",
   "metadata": {},
   "outputs": [],
   "source": [
    "def follow(driver):\n",
    "    \n",
    "    n = 0\n",
    "    \n",
    "    follow_items = driver.find_elements(By.CLASS_NAME, \"entity-result__item\")\n",
    "    follow_items = [x for x in follow_items if x.get_attribute('innerHTML').find('Follow')>0]\n",
    "\n",
    "    gethref = lambda x: x.find_element(By.CLASS_NAME, \"app-aware-link\").get_property('href').split('?')[0]\n",
    "\n",
    "    if len(follow_items) > 0:\n",
    "        follow_items = [gethref(x) for x in follow_items]\n",
    "\n",
    "\n",
    "        for follow in follow_items:\n",
    "\n",
    "            # Open a new window\n",
    "            driver.execute_script(\"window.open('');\")\n",
    "            # Switch to the new window\n",
    "            driver.switch_to.window(driver.window_handles[1])\n",
    "            driver.get(follow)\n",
    "            time.sleep(10)\n",
    "\n",
    "            # open dropdown menu\n",
    "            more = driver.find_elements(By.CLASS_NAME, \"artdeco-dropdown__trigger\")\n",
    "            more[2].click()\n",
    "\n",
    "            button = driver.find_elements(By.CLASS_NAME, \"artdeco-dropdown__item\")\n",
    "            button = [x for x in button if x.get_attribute('innerHTML').find('Connect')>0]\n",
    "\n",
    "            button[1].click()\n",
    "\n",
    "            send(driver)\n",
    "\n",
    "            driver.close()\n",
    "            driver.switch_to.window(driver.window_handles[0])\n",
    "            \n",
    "            n += 1\n",
    "    return n"
   ]
  },
  {
   "cell_type": "code",
   "execution_count": 9,
   "id": "fd0938c0",
   "metadata": {},
   "outputs": [],
   "source": [
    "from credentials import user, password"
   ]
  },
  {
   "cell_type": "code",
   "execution_count": 10,
   "id": "54f25390",
   "metadata": {},
   "outputs": [],
   "source": [
    "driver = login(user, password)"
   ]
  },
  {
   "cell_type": "code",
   "execution_count": 11,
   "id": "94f2e0bc",
   "metadata": {},
   "outputs": [],
   "source": [
    "n = 0"
   ]
  },
  {
   "cell_type": "code",
   "execution_count": 12,
   "id": "f2c65f55",
   "metadata": {},
   "outputs": [],
   "source": [
    "keywords = 'data science'"
   ]
  },
  {
   "cell_type": "code",
   "execution_count": null,
   "id": "a8622924",
   "metadata": {},
   "outputs": [
    {
     "name": "stdout",
     "output_type": "stream",
     "text": [
      "page 0\n"
     ]
    }
   ],
   "source": [
    "\n",
    "for page in range(0, 2):\n",
    "    \n",
    "    print(f'page {page}')\n",
    "    driver.get(url_search(geo=['MX'], keywords=keywords, page=page))\n",
    "    time.sleep(20)\n",
    "    \n",
    "    n1 = connect(driver)\n",
    "    n += n1\n",
    "    \n",
    "    n2 = follow(driver)\n",
    "    n += n2\n",
    "    print(f'page {page} - connect {n1} - follow {n2}')"
   ]
  },
  {
   "cell_type": "code",
   "execution_count": 154,
   "id": "df946698",
   "metadata": {},
   "outputs": [],
   "source": []
  }
 ],
 "metadata": {
  "kernelspec": {
   "display_name": "Python 3 (ipykernel)",
   "language": "python",
   "name": "python3"
  },
  "language_info": {
   "codemirror_mode": {
    "name": "ipython",
    "version": 3
   },
   "file_extension": ".py",
   "mimetype": "text/x-python",
   "name": "python",
   "nbconvert_exporter": "python",
   "pygments_lexer": "ipython3",
   "version": "3.9.13"
  }
 },
 "nbformat": 4,
 "nbformat_minor": 5
}
